{
 "cells": [
  {
   "cell_type": "markdown",
   "metadata": {},
   "source": [
    "# Step One: Setup"
   ]
  },
  {
   "cell_type": "markdown",
   "metadata": {},
   "source": [
    "### Integrating Environmental Factors into Storm Water Structure Point Layer\n",
    "\n",
    "**Main Layer**: **Storm Water Structure Point Layer**\n",
    "\n",
    "#### Environmental Factors:\n",
    "1. **Distance to Stream**\n",
    "2. **Distance to Roads**\n",
    "3. **Digital Elevation Model (DEM)**\n"
   ]
  },
  {
   "cell_type": "markdown",
   "metadata": {},
   "source": [
    "### 1. Distance to Streams"
   ]
  },
  {
   "cell_type": "markdown",
   "metadata": {},
   "source": [
    "###### Source: https://www.nconemap.gov/datasets/e6b5694f81ed49c6a0f3600540f49878_0/explore?location=35.315422%2C-80.715475%2C14.61"
   ]
  },
  {
   "cell_type": "code",
   "execution_count": 23,
   "metadata": {},
   "outputs": [],
   "source": [
    "streamPath = r\"C:\\Users\\rcarte64\\Downloads\\Task3_DeepPipeScript\\01_dataTransformation\\01_streamDistance\\streamClipped.shp\""
   ]
  },
  {
   "cell_type": "markdown",
   "metadata": {},
   "source": [
    "### 2. Distance to Roads"
   ]
  },
  {
   "cell_type": "markdown",
   "metadata": {},
   "source": [
    "###### Source: https://connect.ncdot.gov/resources/gis/Pages/GIS-Data-Layers.aspx"
   ]
  },
  {
   "cell_type": "code",
   "execution_count": 24,
   "metadata": {},
   "outputs": [],
   "source": [
    "roadPath = r\"C:\\Users\\rcarte64\\Downloads\\Task3_DeepPipeScript\\01_dataTransformation\\02_roadsDistance\\roadsClipped.shp\""
   ]
  },
  {
   "cell_type": "markdown",
   "metadata": {},
   "source": [
    "### 3. Mecklenburg DEM"
   ]
  },
  {
   "cell_type": "markdown",
   "metadata": {},
   "source": [
    "###### Source: https://sdd.nc.gov/DownloadFiles.aspx?path=DEMMosaicsbyCounty/DEM50_CountywideRasters"
   ]
  },
  {
   "cell_type": "code",
   "execution_count": 54,
   "metadata": {},
   "outputs": [],
   "source": [
    "demPath = r\"C:\\Users\\rcarte64\\Downloads\\Task3_DeepPipeScript\\01_dataTransformation\\03_meckDEM\\Mecklenburg_Ground_50ft.tif\""
   ]
  },
  {
   "cell_type": "markdown",
   "metadata": {},
   "source": [
    "### 4. Storm Water Structures"
   ]
  },
  {
   "cell_type": "code",
   "execution_count": 26,
   "metadata": {},
   "outputs": [],
   "source": [
    "stormPath = r\"C:\\Users\\rcarte64\\Downloads\\Task3_DeepPipeScript\\00_theData\\inlet.csv\""
   ]
  },
  {
   "cell_type": "markdown",
   "metadata": {},
   "source": [
    "# Step Two: Coding"
   ]
  },
  {
   "cell_type": "markdown",
   "metadata": {},
   "source": [
    "### Import Statements"
   ]
  },
  {
   "cell_type": "code",
   "execution_count": 67,
   "metadata": {},
   "outputs": [],
   "source": [
    "import pandas as pd\n",
    "import geopandas as gpd\n",
    "import time\n",
    "from shapely.geometry import Point\n",
    "from rasterstats import point_query\n",
    "import osgeo\n",
    "from osgeo import gdal\n",
    "from shapely.ops import nearest_points\n",
    "import fiona"
   ]
  },
  {
   "cell_type": "markdown",
   "metadata": {},
   "source": [
    "### Structures CSV into DataFrame"
   ]
  },
  {
   "cell_type": "code",
   "execution_count": 28,
   "metadata": {},
   "outputs": [],
   "source": [
    "stormpoints_df = pd.read_csv(stormPath)\n",
    "stormpoints_gdf = gpd.GeoDataFrame(\n",
    "    stormpoints_df,\n",
    "    geometry=gpd.points_from_xy(stormpoints_df['Longitude'], stormpoints_df['Latitude']),\n",
    "    crs=\"EPSG:2264\"\n",
    ")"
   ]
  },
  {
   "cell_type": "markdown",
   "metadata": {},
   "source": [
    "### Loading Road GDF"
   ]
  },
  {
   "cell_type": "code",
   "execution_count": null,
   "metadata": {},
   "outputs": [],
   "source": [
    "roads_gdf = gpd.read_file(roadPath)\n",
    "\n",
    "target_crs = \"EPSG:2264\"\n",
    "stormpoints_gdf = stormpoints_gdf.to_crs(target_crs)\n",
    "print(stormpoints_gdf.crs)\n",
    "roads_gdf = roads_gdf.to_crs(target_crs)\n",
    "# roads_gdf was originally loaded as 6360 but GeoPandas can't handle Compound CRS\n",
    "print(roads_gdf.crs)\n",
    "\n"
   ]
  },
  {
   "cell_type": "markdown",
   "metadata": {},
   "source": [
    "### Distance to Nearest Road"
   ]
  },
  {
   "cell_type": "code",
   "execution_count": 30,
   "metadata": {},
   "outputs": [],
   "source": [
    "def min_distance_to_roads(stormpoint, roads):\n",
    "    return roads.distance(stormpoint).min()\n",
    "\n",
    "stormpoints_gdf['nearest_road'] = stormpoints_gdf['geometry'].apply(\n",
    "    lambda point: min_distance_to_roads(point, roads_gdf)\n",
    ")"
   ]
  },
  {
   "cell_type": "markdown",
   "metadata": {},
   "source": [
    "### Loading Streams GDF"
   ]
  },
  {
   "cell_type": "code",
   "execution_count": 31,
   "metadata": {},
   "outputs": [],
   "source": [
    "streams_gdf = gpd.read_file(streamPath)\n",
    "streams_gdf = streams_gdf.to_crs(target_crs)"
   ]
  },
  {
   "cell_type": "markdown",
   "metadata": {},
   "source": [
    "### Distance to Nearest Stream"
   ]
  },
  {
   "cell_type": "code",
   "execution_count": 32,
   "metadata": {},
   "outputs": [],
   "source": [
    "def min_distance_to_streams(stormpoint,streams):\n",
    "    return streams.distance(stormpoint).min()\n",
    "\n",
    "stormpoints_gdf['nearest_stream'] = stormpoints_gdf['geometry'].apply(\n",
    "    lambda point: min_distance_to_streams(point, streams_gdf)\n",
    ")\n",
    "    "
   ]
  },
  {
   "cell_type": "markdown",
   "metadata": {},
   "source": [
    "### DEM\n"
   ]
  },
  {
   "cell_type": "code",
   "execution_count": null,
   "metadata": {},
   "outputs": [],
   "source": [
    "elevations = point_query(stormpoints_gdf, demPath, property_name='elevation')\n",
    "stormpoints_gdf['elevation'] = [elev[0] if elev else None for elev in elevations]\n",
    "print(f'calculating time: {time.time()-start:.2f} seconds')\n",
    "start=time.time()"
   ]
  },
  {
   "cell_type": "markdown",
   "metadata": {},
   "source": [
    "### DEM to Vector"
   ]
  },
  {
   "cell_type": "code",
   "execution_count": null,
   "metadata": {},
   "outputs": [],
   "source": [
    "contour_shp = r\"C:\\Users\\rcarte64\\Downloads\\Task3_DeepPipeScript\\03_outputTesting\\contours.shp\"\n",
    "#Generate Contours\n",
    "# gdal.ContourGenerate(demPath, contour_shp, interval=10, field_name=\"elevation\")\n",
    "\n",
    "import subprocess\n",
    "\n",
    "subprocess.run([\n",
    "    \"gdal_contour\",\n",
    "    \"-i\", \"10\",                   # Contour interval\n",
    "    \"-a\", \"elevation\",             # Attribute field for elevation\n",
    "    \"-f\", \"ESRI Shapefile\",        # Format as Shapefile\n",
    "    demPath,\n",
    "    contour_shp\n",
    "])"
   ]
  },
  {
   "cell_type": "markdown",
   "metadata": {},
   "source": [
    "### Finding Elevation"
   ]
  },
  {
   "cell_type": "code",
   "execution_count": null,
   "metadata": {},
   "outputs": [],
   "source": [
    "contours_gdf = gpd.read_file(contour_shp)\n",
    "\n",
    "# Ensure both layers are in the same CRS\n",
    "if stormpoints_gdf.crs != contours_gdf.crs:\n",
    "    stormpoints_gdf = stormpoints_gdf.to_crs(contours_gdf.crs)\n",
    "\n",
    "# Define function to find the nearest contour elevation for each point\n",
    "def find_nearest_elevation(point, contours):\n",
    "    nearest_geom = contours.geometry.unary_union  # Combine all contours into one geometry for nearest search\n",
    "    nearest_line = nearest_points(point, nearest_geom)[1]\n",
    "    nearest_elevation = contours[contours.geometry == nearest_line]['elevation'].values[0]\n",
    "    return nearest_elevation\n",
    "\n",
    "# Apply this function to each point in stormpoints_gdf\n",
    "stormpoints_gdf['elevation'] = stormpoints_gdf['geometry'].apply(\n",
    "    lambda point: find_nearest_elevation(point, contours_gdf)\n",
    ")\n"
   ]
  },
  {
   "cell_type": "markdown",
   "metadata": {},
   "source": [
    "# Step Three: Export\n"
   ]
  },
  {
   "cell_type": "markdown",
   "metadata": {},
   "source": [
    "### Results to CSV"
   ]
  },
  {
   "cell_type": "code",
   "execution_count": 35,
   "metadata": {},
   "outputs": [],
   "source": [
    "outputPath = r\"C:\\Users\\rcarte64\\Downloads\\Task3_DeepPipeScript\\03_outputTesting\\roads_streams_DEM_Test.csv\""
   ]
  },
  {
   "cell_type": "code",
   "execution_count": 36,
   "metadata": {},
   "outputs": [],
   "source": [
    "output_df = stormpoints_gdf[['OBJECTID', 'Latitude', 'Longitude', 'nearest_road','nearest_stream','elevation']]\n",
    "output_df.to_csv(outputPath)"
   ]
  }
 ],
 "metadata": {
  "kernelspec": {
   "display_name": "Python 3",
   "language": "python",
   "name": "python3"
  },
  "language_info": {
   "codemirror_mode": {
    "name": "ipython",
    "version": 3
   },
   "file_extension": ".py",
   "mimetype": "text/x-python",
   "name": "python",
   "nbconvert_exporter": "python",
   "pygments_lexer": "ipython3",
   "version": "3.11.10"
  }
 },
 "nbformat": 4,
 "nbformat_minor": 2
}
