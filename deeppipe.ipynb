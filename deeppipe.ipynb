{
 "cells": [
  {
   "cell_type": "markdown",
   "metadata": {},
   "source": [
    "# Step One: Setup"
   ]
  },
  {
   "cell_type": "markdown",
   "metadata": {},
   "source": [
    "### Integrating Environmental Factors into Storm Water Structure Point Layer\n",
    "\n",
    "**Main Layer**: **Storm Water Structure Point Layer**\n",
    "\n",
    "#### Environmental Factors:\n",
    "1. **Distance to Stream**\n",
    "2. **Distance to Roads**\n",
    "3. **Digital Elevation Model (DEM)**\n"
   ]
  },
  {
   "cell_type": "markdown",
   "metadata": {},
   "source": [
    "### 1. Distance to Streams"
   ]
  },
  {
   "cell_type": "markdown",
   "metadata": {},
   "source": [
    "###### Source: https://www.nconemap.gov/datasets/e6b5694f81ed49c6a0f3600540f49878_0/explore?location=35.315422%2C-80.715475%2C14.61"
   ]
  },
  {
   "cell_type": "code",
   "execution_count": 23,
   "metadata": {},
   "outputs": [],
   "source": [
    "streamPath = r\"C:\\Users\\rcarte64\\Downloads\\Task3_DeepPipeScript\\01_dataTransformation\\01_streamDistance\\streamClipped.shp\""
   ]
  },
  {
   "cell_type": "markdown",
   "metadata": {},
   "source": [
    "### 2. Distance to Roads"
   ]
  },
  {
   "cell_type": "markdown",
   "metadata": {},
   "source": [
    "###### Source: https://connect.ncdot.gov/resources/gis/Pages/GIS-Data-Layers.aspx"
   ]
  },
  {
   "cell_type": "code",
   "execution_count": 24,
   "metadata": {},
   "outputs": [],
   "source": [
    "roadPath = r\"C:\\Users\\rcarte64\\Downloads\\Task3_DeepPipeScript\\01_dataTransformation\\02_roadsDistance\\roadsClipped.shp\""
   ]
  },
  {
   "cell_type": "markdown",
   "metadata": {},
   "source": [
    "### 3. Mecklenburg DEM"
   ]
  },
  {
   "cell_type": "markdown",
   "metadata": {},
   "source": [
    "###### Source: https://sdd.nc.gov/DownloadFiles.aspx?path=DEMMosaicsbyCounty/DEM50_CountywideRasters"
   ]
  },
  {
   "cell_type": "code",
   "execution_count": 25,
   "metadata": {},
   "outputs": [],
   "source": [
    "demPath = r\"C:\\Users\\rcarte64\\Downloads\\Task3_DeepPipeScript\\01_dataTransformation\\03_meckDEM\\Mecklenburg_Ground_50ft.tif\""
   ]
  },
  {
   "cell_type": "markdown",
   "metadata": {},
   "source": [
    "### 4. Storm Water Structures"
   ]
  },
  {
   "cell_type": "code",
   "execution_count": 26,
   "metadata": {},
   "outputs": [],
   "source": [
    "stormPath = r\"C:\\Users\\rcarte64\\Downloads\\Task3_DeepPipeScript\\00_theData\\inlet.csv\""
   ]
  },
  {
   "cell_type": "markdown",
   "metadata": {},
   "source": [
    "# Step Two: Coding"
   ]
  },
  {
   "cell_type": "markdown",
   "metadata": {},
   "source": [
    "### Import Statements"
   ]
  },
  {
   "cell_type": "code",
   "execution_count": 37,
   "metadata": {},
   "outputs": [],
   "source": [
    "import pandas as pd\n",
    "import geopandas as gpd\n",
    "from shapely.geometry import Point\n",
    "from rasterstats import point_query"
   ]
  },
  {
   "cell_type": "markdown",
   "metadata": {},
   "source": [
    "### Structures CSV into DataFrame"
   ]
  },
  {
   "cell_type": "code",
   "execution_count": 28,
   "metadata": {},
   "outputs": [],
   "source": [
    "stormpoints_df = pd.read_csv(stormPath)\n",
    "stormpoints_gdf = gpd.GeoDataFrame(\n",
    "    stormpoints_df,\n",
    "    geometry=gpd.points_from_xy(stormpoints_df['Longitude'], stormpoints_df['Latitude']),\n",
    "    crs=\"EPSG:2264\"\n",
    ")"
   ]
  },
  {
   "cell_type": "markdown",
   "metadata": {},
   "source": [
    "### Loading Road GDF"
   ]
  },
  {
   "cell_type": "code",
   "execution_count": 29,
   "metadata": {},
   "outputs": [
    {
     "name": "stderr",
     "output_type": "stream",
     "text": [
      "c:\\Users\\rcarte64\\AppData\\Local\\miniconda3\\envs\\myenv\\Lib\\site-packages\\pyogrio\\raw.py:196: UserWarning: Measured (M) geometry types are not supported. Original type 'Measured 3D LineString' is converted to 'LineString Z'\n",
      "  return ogr_read(\n"
     ]
    },
    {
     "name": "stdout",
     "output_type": "stream",
     "text": [
      "EPSG:2264\n",
      "EPSG:2264\n"
     ]
    }
   ],
   "source": [
    "roads_gdf = gpd.read_file(roadPath)\n",
    "\n",
    "target_crs = \"EPSG:2264\"\n",
    "stormpoints_gdf = stormpoints_gdf.to_crs(target_crs)\n",
    "print(stormpoints_gdf.crs)\n",
    "roads_gdf = roads_gdf.to_crs(target_crs)\n",
    "# roads_gdf was originally loaded as 6360 but GeoPandas can't handle Compound CRS\n",
    "print(roads_gdf.crs)\n",
    "\n"
   ]
  },
  {
   "cell_type": "markdown",
   "metadata": {},
   "source": [
    "### Distance to Nearest Road"
   ]
  },
  {
   "cell_type": "code",
   "execution_count": 30,
   "metadata": {},
   "outputs": [],
   "source": [
    "def min_distance_to_roads(stormpoint, roads):\n",
    "    return roads.distance(stormpoint).min()\n",
    "\n",
    "stormpoints_gdf['nearest_road'] = stormpoints_gdf['geometry'].apply(\n",
    "    lambda point: min_distance_to_roads(point, roads_gdf)\n",
    ")"
   ]
  },
  {
   "cell_type": "markdown",
   "metadata": {},
   "source": [
    "### Loading Streams GDF"
   ]
  },
  {
   "cell_type": "code",
   "execution_count": 31,
   "metadata": {},
   "outputs": [],
   "source": [
    "streams_gdf = gpd.read_file(streamPath)\n",
    "streams_gdf = streams_gdf.to_crs(target_crs)"
   ]
  },
  {
   "cell_type": "markdown",
   "metadata": {},
   "source": [
    "### Distance to Nearest Stream"
   ]
  },
  {
   "cell_type": "code",
   "execution_count": 32,
   "metadata": {},
   "outputs": [],
   "source": [
    "def min_distance_to_streams(stormpoint,streams):\n",
    "    return streams.distance(stormpoint).min()\n",
    "\n",
    "stormpoints_gdf['nearest_stream'] = stormpoints_gdf['geometry'].apply(\n",
    "    lambda point: min_distance_to_streams(point, streams_gdf)\n",
    ")\n",
    "    "
   ]
  },
  {
   "cell_type": "markdown",
   "metadata": {},
   "source": [
    "### DEM\n"
   ]
  },
  {
   "cell_type": "code",
   "execution_count": null,
   "metadata": {},
   "outputs": [],
   "source": [
    "with "
   ]
  },
  {
   "cell_type": "markdown",
   "metadata": {},
   "source": [
    "# Step Three: Export\n"
   ]
  },
  {
   "cell_type": "markdown",
   "metadata": {},
   "source": [
    "### Results to CSV"
   ]
  },
  {
   "cell_type": "code",
   "execution_count": 35,
   "metadata": {},
   "outputs": [],
   "source": [
    "outputPath = r\"C:\\Users\\rcarte64\\Downloads\\Task3_DeepPipeScript\\03_outputTesting\\roads_streams_Test.csv\""
   ]
  },
  {
   "cell_type": "code",
   "execution_count": 36,
   "metadata": {},
   "outputs": [],
   "source": [
    "output_df = stormpoints_gdf[['OBJECTID', 'Latitude', 'Longitude', 'nearest_road','nearest_stream']]\n",
    "output_df.to_csv(outputPath)"
   ]
  }
 ],
 "metadata": {
  "kernelspec": {
   "display_name": "Python 3",
   "language": "python",
   "name": "python3"
  },
  "language_info": {
   "codemirror_mode": {
    "name": "ipython",
    "version": 3
   },
   "file_extension": ".py",
   "mimetype": "text/x-python",
   "name": "python",
   "nbconvert_exporter": "python",
   "pygments_lexer": "ipython3",
   "version": "3.11.10"
  }
 },
 "nbformat": 4,
 "nbformat_minor": 2
}
